{
 "cells": [
  {
   "cell_type": "markdown",
   "id": "e447c185-bd59-45ac-80e8-39346312469a",
   "metadata": {},
   "source": [
    "# Data Summary for Dataset 1\n",
    "Load in Pre-Processed Data: population_by_country_2020.csv\n",
    "\n",
    "Reference\n",
    "1.\tPopulation by Country – 2020: https://www.kaggle.com/datasets/tanuprabhu/population-by-country-2020?resource=download \n",
    "\n",
    "Using Pandas Library"
   ]
  },
  {
   "cell_type": "markdown",
   "id": "51a7ef8c-d18d-44cd-90a1-eb2f85f61883",
   "metadata": {},
   "source": [
    "## Step 1 - Import Pandas Library"
   ]
  },
  {
   "cell_type": "code",
   "execution_count": 4,
   "id": "33ac99d9-e6f7-4362-b258-232f73888ff3",
   "metadata": {},
   "outputs": [],
   "source": [
    "import pandas as pd"
   ]
  },
  {
   "cell_type": "markdown",
   "id": "560d8e44-e2b1-46c3-a5e3-a7db03538909",
   "metadata": {},
   "source": [
    "## Step 2 - Load the dataset"
   ]
  },
  {
   "cell_type": "code",
   "execution_count": 5,
   "id": "4d6f244f-e6ac-475d-8f5c-ad032385b154",
   "metadata": {},
   "outputs": [],
   "source": [
    "vFilePath = '../0_Dataset/population_by_country_2020.csv'\n",
    "vDataFrame = pd.read_csv(vFilePath)"
   ]
  },
  {
   "cell_type": "markdown",
   "id": "7b7b0a94-fd5b-4a32-b3d0-1ea48223a98a",
   "metadata": {},
   "source": [
    "## Step 3 - Data Overview"
   ]
  },
  {
   "cell_type": "code",
   "execution_count": 6,
   "id": "7488bae0-fbb9-4643-8e5a-8dda9f5f21e3",
   "metadata": {},
   "outputs": [
    {
     "name": "stdout",
     "output_type": "stream",
     "text": [
      "---------------------- Data Overview ----------------------\n",
      "\n",
      "---------------- Population by Country 2020 ----------------\n",
      "This is the shape of the dataset\n",
      "(235, 11)\n",
      "\n",
      "This is the index of the dataset\n",
      "RangeIndex(start=0, stop=235, step=1)\n",
      "\n",
      "These are the columns in the dataset\n",
      "Index(['Country (or dependency)', 'Population (2020)', 'Yearly Change',\n",
      "       'Net Change', 'Density (P/Km²)', 'Land Area (Km²)', 'Migrants (net)',\n",
      "       'Fert. Rate', 'Med. Age', 'Urban Pop %', 'World Share'],\n",
      "      dtype='object')\n",
      "\n",
      "The total number of non-NA values in this dataset is:\n",
      "Country (or dependency)    235\n",
      "Population (2020)          235\n",
      "Yearly Change              235\n",
      "Net Change                 235\n",
      "Density (P/Km²)            235\n",
      "Land Area (Km²)            235\n",
      "Migrants (net)             201\n",
      "Fert. Rate                 235\n",
      "Med. Age                   235\n",
      "Urban Pop %                235\n",
      "World Share                235\n",
      "dtype: int64\n",
      "\n",
      "A summary of this dataset is shown below:\n",
      "<class 'pandas.core.frame.DataFrame'>\n",
      "RangeIndex: 235 entries, 0 to 234\n",
      "Data columns (total 11 columns):\n",
      " #   Column                   Non-Null Count  Dtype  \n",
      "---  ------                   --------------  -----  \n",
      " 0   Country (or dependency)  235 non-null    object \n",
      " 1   Population (2020)        235 non-null    int64  \n",
      " 2   Yearly Change            235 non-null    object \n",
      " 3   Net Change               235 non-null    int64  \n",
      " 4   Density (P/Km²)          235 non-null    int64  \n",
      " 5   Land Area (Km²)          235 non-null    int64  \n",
      " 6   Migrants (net)           201 non-null    float64\n",
      " 7   Fert. Rate               235 non-null    object \n",
      " 8   Med. Age                 235 non-null    object \n",
      " 9   Urban Pop %              235 non-null    object \n",
      " 10  World Share              235 non-null    object \n",
      "dtypes: float64(1), int64(4), object(6)\n",
      "memory usage: 20.3+ KB\n",
      "\n",
      "A descriptive statistical summary of this dataset is shown below:\n",
      "       Population (2020)    Net Change  Density (P/Km²)  Land Area (Km²)  \\\n",
      "count       2.350000e+02  2.350000e+02       235.000000     2.350000e+02   \n",
      "mean        3.322744e+07  3.460878e+05       475.770213     5.535918e+05   \n",
      "std         1.353034e+08  1.128260e+06      2331.285935     1.687796e+06   \n",
      "min         8.010000e+02 -3.838400e+05         0.000000     0.000000e+00   \n",
      "25%         3.994905e+05  4.240000e+02        37.000000     2.545000e+03   \n",
      "50%         5.460109e+06  3.917000e+04        95.000000     7.724000e+04   \n",
      "75%         2.067170e+07  2.496600e+05       239.500000     4.038200e+05   \n",
      "max         1.440298e+09  1.358663e+07     26337.000000     1.637687e+07   \n",
      "\n",
      "       Migrants (net)  \n",
      "count      201.000000  \n",
      "mean         6.283582  \n",
      "std     123291.887548  \n",
      "min    -653249.000000  \n",
      "25%     -10047.000000  \n",
      "50%       -852.000000  \n",
      "75%       9741.000000  \n",
      "max     954806.000000  \n"
     ]
    }
   ],
   "source": [
    "print(\"---------------------- Data Overview ----------------------\")\n",
    "print(\"\")\n",
    "print(\"---------------- Population by Country 2020 ----------------\")\n",
    "\n",
    "print(\"This is the shape of the dataset\")\n",
    "print(vDataFrame.shape)\n",
    "\n",
    "print(\"\\nThis is the index of the dataset\")\n",
    "print(vDataFrame.index)\n",
    "\n",
    "print(\"\\nThese are the columns in the dataset\")\n",
    "print(vDataFrame.columns)\n",
    "\n",
    "print(\"\\nThe total number of non-NA values in this dataset is:\")\n",
    "print(vDataFrame.notna().sum())\n",
    "\n",
    "print(\"\\nA summary of this dataset is shown below:\")\n",
    "vDataFrame.info()\n",
    "\n",
    "print(\"\\nA descriptive statistical summary of this dataset is shown below:\")\n",
    "print(vDataFrame.describe())"
   ]
  },
  {
   "cell_type": "markdown",
   "id": "a481e1d6-ec98-4e4c-90c0-4bb85b5afb63",
   "metadata": {},
   "source": [
    "# Data Summary for Dataset 2\n",
    "Load in Pre-Processed Data: EnrolmentbyInstitutions_processed.csv\r\n",
    "\r\n",
    "Reference\r\n",
    "1.\tEnrolment by Institute: https://beta.data.gov.sg/datasets?topics=education&query=Labour+Force&resultId=452\r\n",
    "\r\n",
    "Using Pandas Library"
   ]
  },
  {
   "cell_type": "markdown",
   "id": "ff67dada-d91d-4024-9b49-6f2d22b51785",
   "metadata": {},
   "source": [
    "\r\n",
    "\r\n",
    "# Step 1 - Import Pandas Library"
   ]
  },
  {
   "cell_type": "code",
   "execution_count": 1,
   "id": "c101001e-2430-41ec-8f90-43da6be1225e",
   "metadata": {},
   "outputs": [],
   "source": [
    "import pandas as pd"
   ]
  },
  {
   "cell_type": "markdown",
   "id": "7f70bec7-f806-4edd-80c5-d4c36cc1dc0e",
   "metadata": {},
   "source": [
    "## Step 2 - Load the dataset"
   ]
  },
  {
   "cell_type": "code",
   "execution_count": 2,
   "id": "69cfb168-305b-4b1d-b557-f195cefc37f7",
   "metadata": {},
   "outputs": [],
   "source": [
    "vFilePath = '../0_Dataset/EnrolmentbyInstitutions_processed.csv'\n",
    "vDataFrame = pd.read_csv(vFilePath)"
   ]
  },
  {
   "cell_type": "markdown",
   "id": "78f78975-f435-426c-8a09-99cdc6955ddf",
   "metadata": {},
   "source": [
    "## Step 3 - Data Overview"
   ]
  },
  {
   "cell_type": "code",
   "execution_count": 3,
   "id": "0376f326-2a9b-401e-a844-c28cc2f83edc",
   "metadata": {},
   "outputs": [
    {
     "name": "stdout",
     "output_type": "stream",
     "text": [
      "---------------------- Data Overview ----------------------\n",
      "\n",
      "---------------- Enrolment by Institutions ----------------\n",
      "This is the shape of the dataset\n",
      "(123, 19)\n",
      "\n",
      "This is the index of the dataset\n",
      "RangeIndex(start=0, stop=123, step=1)\n",
      "\n",
      "These are the columns in the dataset\n",
      "Index(['year', 'sex', 'nus', 'ntu', 'smu', 'sit', 'sutd', 'suss', 'nie',\n",
      "       'singapore_polytechnic', 'ngee_ann_polytechnic', 'temasek_polytechnic',\n",
      "       'nanyang_polytechnic', 'republic_polytechnic', 'lasalle_diploma',\n",
      "       'lasalle_degree', 'nafa_diploma', 'nafa_degree', 'ite'],\n",
      "      dtype='object')\n",
      "\n",
      "The total number of non-NA values in this dataset is:\n",
      "year                     123\n",
      "sex                      123\n",
      "nus                      123\n",
      "ntu                      123\n",
      "smu                       69\n",
      "sit                       39\n",
      "sutd                      33\n",
      "suss                      27\n",
      "nie                      123\n",
      "singapore_polytechnic    123\n",
      "ngee_ann_polytechnic     123\n",
      "temasek_polytechnic       99\n",
      "nanyang_polytechnic       93\n",
      "republic_polytechnic      60\n",
      "lasalle_diploma           54\n",
      "lasalle_degree            33\n",
      "nafa_diploma              54\n",
      "nafa_degree               36\n",
      "ite                      123\n",
      "dtype: int64\n",
      "\n",
      "A summary of this dataset is shown below:\n",
      "<class 'pandas.core.frame.DataFrame'>\n",
      "RangeIndex: 123 entries, 0 to 122\n",
      "Data columns (total 19 columns):\n",
      " #   Column                 Non-Null Count  Dtype  \n",
      "---  ------                 --------------  -----  \n",
      " 0   year                   123 non-null    int64  \n",
      " 1   sex                    123 non-null    object \n",
      " 2   nus                    123 non-null    int64  \n",
      " 3   ntu                    123 non-null    int64  \n",
      " 4   smu                    69 non-null     float64\n",
      " 5   sit                    39 non-null     float64\n",
      " 6   sutd                   33 non-null     float64\n",
      " 7   suss                   27 non-null     float64\n",
      " 8   nie                    123 non-null    int64  \n",
      " 9   singapore_polytechnic  123 non-null    int64  \n",
      " 10  ngee_ann_polytechnic   123 non-null    int64  \n",
      " 11  temasek_polytechnic    99 non-null     float64\n",
      " 12  nanyang_polytechnic    93 non-null     float64\n",
      " 13  republic_polytechnic   60 non-null     float64\n",
      " 14  lasalle_diploma        54 non-null     float64\n",
      " 15  lasalle_degree         33 non-null     float64\n",
      " 16  nafa_diploma           54 non-null     float64\n",
      " 17  nafa_degree            36 non-null     float64\n",
      " 18  ite                    123 non-null    int64  \n",
      "dtypes: float64(11), int64(7), object(1)\n",
      "memory usage: 18.4+ KB\n",
      "\n",
      "A descriptive statistical summary of this dataset is shown below:\n",
      "              year           nus           ntu          smu          sit  \\\n",
      "count   123.000000    123.000000    123.000000    69.000000    39.000000   \n",
      "mean   2002.000000  14059.235772   9966.731707  3983.884058  3492.820513   \n",
      "std      11.880553   6541.833422   6565.943378  2459.601800  2428.300260   \n",
      "min    1982.000000   5343.000000     57.000000    93.000000   248.000000   \n",
      "25%    1992.000000   9115.500000   5171.000000  2420.000000  1587.500000   \n",
      "50%    2002.000000  12721.000000  10317.000000  3696.000000  3051.000000   \n",
      "75%    2012.000000  15469.000000  11930.000000  5276.000000  4682.000000   \n",
      "max    2022.000000  31191.000000  24074.000000  9883.000000  9688.000000   \n",
      "\n",
      "              sutd         suss          nie  singapore_polytechnic  \\\n",
      "count    33.000000    27.000000   123.000000             123.000000   \n",
      "mean    823.575758  1364.592593  1279.967480            8621.463415   \n",
      "std     445.757293  1090.091537   784.735916            3871.558856   \n",
      "min     149.000000    72.000000   171.000000            1069.000000   \n",
      "25%     522.000000   464.500000   792.000000            5520.500000   \n",
      "50%     713.000000  1139.000000  1085.000000            8233.000000   \n",
      "75%    1106.000000  2031.500000  1729.000000           12359.000000   \n",
      "max    1730.000000  3910.000000  3368.000000           15972.000000   \n",
      "\n",
      "       ngee_ann_polytechnic  temasek_polytechnic  nanyang_polytechnic  \\\n",
      "count            123.000000            99.000000            93.000000   \n",
      "mean            8782.991870          7879.151515          8382.967742   \n",
      "std             3790.083745          4340.247485          4101.027569   \n",
      "min             1153.000000           183.000000           119.000000   \n",
      "25%             6425.500000          5936.000000          6298.000000   \n",
      "50%             7655.000000          7332.000000          7506.000000   \n",
      "75%            12629.500000         10634.000000         10514.000000   \n",
      "max            16581.000000         16250.000000         16408.000000   \n",
      "\n",
      "       republic_polytechnic  lasalle_diploma  lasalle_degree  nafa_diploma  \\\n",
      "count             60.000000        54.000000       33.000000     54.000000   \n",
      "mean            7239.400000       961.444444      818.060606   1466.888889   \n",
      "std             4034.887734       430.260503      381.920717    646.683751   \n",
      "min              377.000000       408.000000      294.000000    546.000000   \n",
      "25%             5423.500000       619.750000      357.000000    709.000000   \n",
      "50%             6637.500000       843.000000      905.000000   1506.500000   \n",
      "75%             8612.250000      1222.250000     1166.000000   2074.500000   \n",
      "max            14995.000000      1948.000000     1339.000000   2537.000000   \n",
      "\n",
      "       nafa_degree           ite  \n",
      "count    36.000000    123.000000  \n",
      "mean     62.388889  13016.341463  \n",
      "std      91.385612   7087.103415  \n",
      "min       9.000000   2119.000000  \n",
      "25%      20.750000   8204.000000  \n",
      "50%      31.000000  11267.000000  \n",
      "75%      50.250000  16882.500000  \n",
      "max     433.000000  29295.000000  \n"
     ]
    }
   ],
   "source": [
    "print(\"---------------------- Data Overview ----------------------\")\n",
    "print(\"\")\n",
    "print(\"---------------- Enrolment by Institutions ----------------\")\n",
    "\n",
    "print(\"This is the shape of the dataset\")\n",
    "print(vDataFrame.shape)\n",
    "\n",
    "print(\"\\nThis is the index of the dataset\")\n",
    "print(vDataFrame.index)\n",
    "\n",
    "print(\"\\nThese are the columns in the dataset\")\n",
    "print(vDataFrame.columns)\n",
    "\n",
    "print(\"\\nThe total number of non-NA values in this dataset is:\")\n",
    "print(vDataFrame.notna().sum())\n",
    "\n",
    "print(\"\\nA summary of this dataset is shown below:\")\n",
    "vDataFrame.info()\n",
    "\n",
    "print(\"\\nA descriptive statistical summary of this dataset is shown below:\")\n",
    "print(vDataFrame.describe())\n"
   ]
  },
  {
   "cell_type": "markdown",
   "id": "fe3d6e66-8be3-4224-b336-dd1163c1f7b0",
   "metadata": {},
   "source": [
    "# Data Summary for Dataset 3\n",
    "Load in Pre-Processed Data: EnrolmentPreUniversitybyLevelandCourse_processed.csv\n",
    "\n",
    "Reference\n",
    "1.\tEnrolment at Pre-University by Level and Course: https://beta.data.gov.sg/datasets?topics=education&query=jc&resultId=d_a27483941350c79947ebac7803df48d7\n",
    "\n",
    "Using Pandas Library"
   ]
  },
  {
   "cell_type": "markdown",
   "id": "ff15eb0d-8fe1-4722-bbff-bd6ffcac0392",
   "metadata": {},
   "source": [
    "## Step 1 - Import Pandas Library"
   ]
  },
  {
   "cell_type": "code",
   "execution_count": 7,
   "id": "a3b3f075-9b61-4f63-98a6-12f4b6622807",
   "metadata": {},
   "outputs": [],
   "source": [
    "import pandas as pd"
   ]
  },
  {
   "cell_type": "markdown",
   "id": "b0849219-33da-4fa4-aa28-daf32f1d765f",
   "metadata": {},
   "source": [
    "## Step 2 - Load the dataset"
   ]
  },
  {
   "cell_type": "code",
   "execution_count": 8,
   "id": "684e72f2-b0cc-43f1-83ae-55cc0c9f991e",
   "metadata": {},
   "outputs": [],
   "source": [
    "vFilePath = '../0_Dataset/EnrolmentPreUniversitybyLevelandCourse_processed.csv'\n",
    "vDataFrame = pd.read_csv(vFilePath)"
   ]
  },
  {
   "cell_type": "markdown",
   "id": "34c3631e-7aed-4488-9245-ea3f79f2630f",
   "metadata": {},
   "source": [
    "## Step 3 - Data Overview"
   ]
  },
  {
   "cell_type": "code",
   "execution_count": 9,
   "id": "3ab9f1d4-522e-427f-a1ab-bd729bb1509c",
   "metadata": {},
   "outputs": [
    {
     "name": "stdout",
     "output_type": "stream",
     "text": [
      "---------------------- Data Overview ----------------------\n",
      "\n",
      "---------------- Enrolment Pre-University by Level and Course ----------------\n",
      "This is the shape of the dataset\n",
      "(1944, 5)\n",
      "\n",
      "This is the index of the dataset\n",
      "RangeIndex(start=0, stop=1944, step=1)\n",
      "\n",
      "These are the columns in the dataset\n",
      "Index(['year', 'level', 'course', 'sex', 'enrolment_preu'], dtype='object')\n",
      "\n",
      "The total number of non-NA values in this dataset is:\n",
      "year              1944\n",
      "level             1944\n",
      "course            1944\n",
      "sex               1944\n",
      "enrolment_preu    1830\n",
      "dtype: int64\n",
      "\n",
      "A summary of this dataset is shown below:\n",
      "<class 'pandas.core.frame.DataFrame'>\n",
      "RangeIndex: 1944 entries, 0 to 1943\n",
      "Data columns (total 5 columns):\n",
      " #   Column          Non-Null Count  Dtype  \n",
      "---  ------          --------------  -----  \n",
      " 0   year            1944 non-null   int64  \n",
      " 1   level           1944 non-null   object \n",
      " 2   course          1944 non-null   object \n",
      " 3   sex             1944 non-null   object \n",
      " 4   enrolment_preu  1830 non-null   float64\n",
      "dtypes: float64(1), int64(1), object(3)\n",
      "memory usage: 76.1+ KB\n",
      "\n",
      "A descriptive statistical summary of this dataset is shown below:\n",
      "              year  enrolment_preu\n",
      "count  1944.000000     1830.000000\n",
      "mean   2001.148148     1275.759563\n",
      "std      12.548072     2292.792904\n",
      "min    1980.000000        9.000000\n",
      "25%    1990.000000       75.250000\n",
      "50%    2001.000000      262.500000\n",
      "75%    2012.000000     1411.500000\n",
      "max    2023.000000    13594.000000\n"
     ]
    }
   ],
   "source": [
    "print(\"---------------------- Data Overview ----------------------\")\n",
    "print(\"\")\n",
    "print(\"---------------- Enrolment Pre-University by Level and Course ----------------\")\n",
    "\n",
    "print(\"This is the shape of the dataset\")\n",
    "print(vDataFrame.shape)\n",
    "\n",
    "print(\"\\nThis is the index of the dataset\")\n",
    "print(vDataFrame.index)\n",
    "\n",
    "print(\"\\nThese are the columns in the dataset\")\n",
    "print(vDataFrame.columns)\n",
    "\n",
    "print(\"\\nThe total number of non-NA values in this dataset is:\")\n",
    "print(vDataFrame.notna().sum())\n",
    "\n",
    "print(\"\\nA summary of this dataset is shown below:\")\n",
    "vDataFrame.info()\n",
    "\n",
    "print(\"\\nA descriptive statistical summary of this dataset is shown below:\")\n",
    "print(vDataFrame.describe())\n"
   ]
  },
  {
   "cell_type": "markdown",
   "id": "db2c6461-ede5-4419-becf-4f7046d95019",
   "metadata": {},
   "source": [
    "# Data Summary for Dataset 4\n",
    "Load in Pre-Processed Data: Graduatesbyinstitutions_processed.csv\n",
    "\n",
    "Reference\n",
    "1.\tGraduates by Institute: https://beta.data.gov.sg/datasets?topics=education&query=Labour+Force&resultId=452\n",
    "\n",
    "Using Pandas Library"
   ]
  },
  {
   "cell_type": "markdown",
   "id": "12d9e127-2207-476e-8dd1-bcb2da627394",
   "metadata": {},
   "source": [
    "## Step 1 - Import Pandas Library"
   ]
  },
  {
   "cell_type": "code",
   "execution_count": 10,
   "id": "5a39de09-a1af-42ea-b2b5-6c68c81debbe",
   "metadata": {},
   "outputs": [],
   "source": [
    "import pandas as pd"
   ]
  },
  {
   "cell_type": "markdown",
   "id": "71070896-5f53-4ff4-8551-f88d118bcb14",
   "metadata": {},
   "source": [
    "## Step 2 - Load the dataset"
   ]
  },
  {
   "cell_type": "code",
   "execution_count": 11,
   "id": "96f7af29-4da1-41c6-8767-79f1908f50f7",
   "metadata": {},
   "outputs": [],
   "source": [
    "vFilePath = '../0_Dataset/Graduatesbyinstitutions_processed.csv'\n",
    "vDataFrame = pd.read_csv(vFilePath)"
   ]
  },
  {
   "cell_type": "markdown",
   "id": "32815b2b-5648-4504-b369-7ffcaf0ec7e0",
   "metadata": {},
   "source": [
    "## Step 3 - Data Overview"
   ]
  },
  {
   "cell_type": "code",
   "execution_count": 12,
   "id": "a7847040-8795-4704-b851-d036abdfde1b",
   "metadata": {},
   "outputs": [
    {
     "name": "stdout",
     "output_type": "stream",
     "text": [
      "---------------------- Data Overview ----------------------\n",
      "\n",
      "---------------- Graduates by Institutions ----------------\n",
      "This is the shape of the dataset\n",
      "(120, 19)\n",
      "\n",
      "This is the index of the dataset\n",
      "RangeIndex(start=0, stop=120, step=1)\n",
      "\n",
      "These are the columns in the dataset\n",
      "Index(['year', 'sex', 'nus', 'ntu', 'smu', 'sit', 'sutd', 'suss', 'nie',\n",
      "       'singapore_polytechnic', 'ngee_ann_polytechnic', 'temasek_polytechnic',\n",
      "       'nanyang_polytechnic', 'republic_polytechnic', 'lasalle_diploma',\n",
      "       'lasalle_degree', 'nafa_diploma', 'nafa_degree', 'ite'],\n",
      "      dtype='object')\n",
      "\n",
      "The total number of non-NA values in this dataset is:\n",
      "year                     120\n",
      "sex                      120\n",
      "nus                      120\n",
      "ntu                      120\n",
      "smu                       60\n",
      "sit                       33\n",
      "sutd                      24\n",
      "suss                      15\n",
      "nie                      120\n",
      "singapore_polytechnic    120\n",
      "ngee_ann_polytechnic     120\n",
      "temasek_polytechnic       96\n",
      "nanyang_polytechnic       87\n",
      "republic_polytechnic      51\n",
      "lasalle_diploma           54\n",
      "lasalle_degree            30\n",
      "nafa_diploma              54\n",
      "nafa_degree               30\n",
      "ite                      120\n",
      "dtype: int64\n",
      "\n",
      "A summary of this dataset is shown below:\n",
      "<class 'pandas.core.frame.DataFrame'>\n",
      "RangeIndex: 120 entries, 0 to 119\n",
      "Data columns (total 19 columns):\n",
      " #   Column                 Non-Null Count  Dtype  \n",
      "---  ------                 --------------  -----  \n",
      " 0   year                   120 non-null    int64  \n",
      " 1   sex                    120 non-null    object \n",
      " 2   nus                    120 non-null    int64  \n",
      " 3   ntu                    120 non-null    int64  \n",
      " 4   smu                    60 non-null     float64\n",
      " 5   sit                    33 non-null     float64\n",
      " 6   sutd                   24 non-null     float64\n",
      " 7   suss                   15 non-null     float64\n",
      " 8   nie                    120 non-null    int64  \n",
      " 9   singapore_polytechnic  120 non-null    int64  \n",
      " 10  ngee_ann_polytechnic   120 non-null    int64  \n",
      " 11  temasek_polytechnic    96 non-null     float64\n",
      " 12  nanyang_polytechnic    87 non-null     float64\n",
      " 13  republic_polytechnic   51 non-null     float64\n",
      " 14  lasalle_diploma        54 non-null     float64\n",
      " 15  lasalle_degree         30 non-null     float64\n",
      " 16  nafa_diploma           54 non-null     float64\n",
      " 17  nafa_degree            30 non-null     float64\n",
      " 18  ite                    120 non-null    int64  \n",
      "dtypes: float64(11), int64(7), object(1)\n",
      "memory usage: 17.9+ KB\n",
      "\n",
      "A descriptive statistical summary of this dataset is shown below:\n",
      "              year          nus          ntu          smu          sit  \\\n",
      "count   120.000000   120.000000   120.000000    60.000000    33.000000   \n",
      "mean   2002.500000  3608.583333  2492.250000   884.133333   995.212121   \n",
      "std      11.591797  1512.608313  1655.552523   536.083584   542.160306   \n",
      "min    1983.000000  1337.000000     0.000000     4.000000    99.000000   \n",
      "25%    1992.750000  2579.500000  1300.000000   547.500000   653.000000   \n",
      "50%    2002.500000  3155.000000  2387.000000   837.000000   863.000000   \n",
      "75%    2012.250000  4627.500000  3162.250000  1074.750000  1285.000000   \n",
      "max    2022.000000  7277.000000  6476.000000  1982.000000  2185.000000   \n",
      "\n",
      "           sutd        suss          nie  singapore_polytechnic  \\\n",
      "count   24.0000   15.000000   120.000000             120.000000   \n",
      "mean   233.2500  264.133333  1036.366667            2620.583333   \n",
      "std    105.4544  178.257786   621.115071            1211.317295   \n",
      "min     93.0000   56.000000   124.000000             316.000000   \n",
      "25%    152.7500  133.500000   592.750000            1718.000000   \n",
      "50%    213.5000  204.000000   887.000000            2476.500000   \n",
      "75%    299.5000  377.500000  1423.250000            3614.750000   \n",
      "max    449.0000  662.000000  2772.000000            5082.000000   \n",
      "\n",
      "       ngee_ann_polytechnic  temasek_polytechnic  nanyang_polytechnic  \\\n",
      "count            120.000000            96.000000            87.000000   \n",
      "mean            2639.350000          2329.916667          2530.413793   \n",
      "std             1202.745198          1426.737454          1270.613115   \n",
      "min              343.000000            32.000000           103.000000   \n",
      "25%             1909.000000          1494.250000          1823.000000   \n",
      "50%             2320.500000          2257.000000          2303.000000   \n",
      "75%             3787.500000          2670.000000          2953.500000   \n",
      "max             5258.000000          5133.000000          5161.000000   \n",
      "\n",
      "       republic_polytechnic  lasalle_diploma  lasalle_degree  nafa_diploma  \\\n",
      "count             51.000000        54.000000       30.000000     54.000000   \n",
      "mean            2260.627451       273.222222      290.733333    390.814815   \n",
      "std             1216.248707       123.287005      136.563218    186.064512   \n",
      "min              291.000000        94.000000      102.000000    144.000000   \n",
      "25%             1581.500000       173.750000      134.250000    190.250000   \n",
      "50%             2088.000000       241.000000      309.000000    409.000000   \n",
      "75%             2724.500000       351.750000      400.750000    542.000000   \n",
      "max             4631.000000       578.000000      520.000000    735.000000   \n",
      "\n",
      "       nafa_degree           ite  \n",
      "count    30.000000    120.000000  \n",
      "mean     15.266667   6130.150000  \n",
      "std       7.196423   3072.809859  \n",
      "min       5.000000    905.000000  \n",
      "25%      10.000000   4069.500000  \n",
      "50%      13.000000   5355.500000  \n",
      "75%      19.000000   7678.250000  \n",
      "max      34.000000  13421.000000  \n"
     ]
    }
   ],
   "source": [
    "print(\"---------------------- Data Overview ----------------------\")\n",
    "print(\"\")\n",
    "print(\"---------------- Graduates by Institutions ----------------\")\n",
    "\n",
    "print(\"This is the shape of the dataset\")\n",
    "print(vDataFrame.shape)\n",
    "\n",
    "print(\"\\nThis is the index of the dataset\")\n",
    "print(vDataFrame.index)\n",
    "\n",
    "print(\"\\nThese are the columns in the dataset\")\n",
    "print(vDataFrame.columns)\n",
    "\n",
    "print(\"\\nThe total number of non-NA values in this dataset is:\")\n",
    "print(vDataFrame.notna().sum())\n",
    "\n",
    "print(\"\\nA summary of this dataset is shown below:\")\n",
    "vDataFrame.info()\n",
    "\n",
    "print(\"\\nA descriptive statistical summary of this dataset is shown below:\")\n",
    "print(vDataFrame.describe())"
   ]
  },
  {
   "cell_type": "markdown",
   "id": "406dc144-658c-48e1-93fc-90d4799020d9",
   "metadata": {},
   "source": [
    "# Data Summary for Dataset 5\r\n",
    "\r\n",
    "Load in Pre-Processed Data: ITEIntakeEnrolmentandGraduatesbyCourse_processed.csv\r\n",
    "\r\n",
    "Reference\r\n",
    "1.\tITE Intake, Enrolment and Graduates by Course: https://beta.data.gov.sg/datasets?topics=education&query=Labour+Force&resultId=d_24b8751abfc87a4f054f61186c2fe1ba\r\n",
    "    \r\n",
    "Using Pandary\r\n",
    "\"\"\""
   ]
  },
  {
   "cell_type": "markdown",
   "id": "fb3f377f-3ef2-4d32-b041-650710fb3de3",
   "metadata": {},
   "source": [
    "## Step 1 - Import Pandas Library"
   ]
  },
  {
   "cell_type": "code",
   "execution_count": 13,
   "id": "3263a191-bd2e-42cc-af74-1364a5cc934b",
   "metadata": {},
   "outputs": [],
   "source": [
    "import pandas as pd"
   ]
  },
  {
   "cell_type": "markdown",
   "id": "845516eb-7f1a-41df-a50f-7c16edb59587",
   "metadata": {},
   "source": [
    "## Step 2 - Load the dataset"
   ]
  },
  {
   "cell_type": "code",
   "execution_count": 14,
   "id": "c1a744f3-7cc8-45f5-9e88-e5987db37fd3",
   "metadata": {},
   "outputs": [],
   "source": [
    "vFilePath = '../0_Dataset/ITEIntakeEnrolmentandGraduatesbyCourse_processed.csv'\n",
    "vDataFrame = pd.read_csv(vFilePath)"
   ]
  },
  {
   "cell_type": "markdown",
   "id": "95f9ea73-a35e-416b-a1d2-6a116e730e2a",
   "metadata": {},
   "source": [
    "## Step 3 - Data Overview"
   ]
  },
  {
   "cell_type": "code",
   "execution_count": 15,
   "id": "73688000-6f8c-4c78-b1d4-a42673b2bf27",
   "metadata": {},
   "outputs": [
    {
     "name": "stdout",
     "output_type": "stream",
     "text": [
      "---------------------- Data Overview ----------------------\n",
      "\n",
      "---------------- ITE Intake, Enrolment, and Graduates by Course ----------------\n",
      "This is the shape of the dataset\n",
      "(252, 6)\n",
      "\n",
      "This is the index of the dataset\n",
      "RangeIndex(start=0, stop=252, step=1)\n",
      "\n",
      "These are the columns in the dataset\n",
      "Index(['year', 'sex', 'course', 'intake', 'enrolment', 'graduates'], dtype='object')\n",
      "\n",
      "The total number of non-NA values in this dataset is:\n",
      "year         252\n",
      "sex          252\n",
      "course       252\n",
      "intake       252\n",
      "enrolment    252\n",
      "graduates    252\n",
      "dtype: int64\n",
      "\n",
      "A summary of this dataset is shown below:\n",
      "<class 'pandas.core.frame.DataFrame'>\n",
      "RangeIndex: 252 entries, 0 to 251\n",
      "Data columns (total 6 columns):\n",
      " #   Column     Non-Null Count  Dtype \n",
      "---  ------     --------------  ----- \n",
      " 0   year       252 non-null    int64 \n",
      " 1   sex        252 non-null    object\n",
      " 2   course     252 non-null    object\n",
      " 3   intake     252 non-null    int64 \n",
      " 4   enrolment  252 non-null    int64 \n",
      " 5   graduates  252 non-null    int64 \n",
      "dtypes: int64(4), object(2)\n",
      "memory usage: 11.9+ KB\n",
      "\n",
      "A descriptive statistical summary of this dataset is shown below:\n",
      "              year       intake    enrolment    graduates\n",
      "count   252.000000   252.000000   252.000000   252.000000\n",
      "mean   2015.500000  1616.309524  3021.253968  1372.428571\n",
      "std       4.039151  1410.968913  2646.161319  1210.417816\n",
      "min    2009.000000     0.000000     0.000000     0.000000\n",
      "25%    2012.000000   485.250000   921.000000   398.750000\n",
      "50%    2015.500000   930.000000  1792.500000   780.500000\n",
      "75%    2019.000000  2672.500000  4998.500000  2328.750000\n",
      "max    2022.000000  4685.000000  9064.000000  4050.000000\n"
     ]
    }
   ],
   "source": [
    "vFilePath = '../0_Dataset/ITEIntakeEnrolmentandGraduatesbyCourse_processed.csv'\n",
    "vDataFrame = pd.read_csv(vFilePath)\n",
    "\n",
    "# Step 3 - Data Overview\n",
    "print(\"---------------------- Data Overview ----------------------\")\n",
    "print(\"\")\n",
    "print(\"---------------- ITE Intake, Enrolment, and Graduates by Course ----------------\")\n",
    "\n",
    "print(\"This is the shape of the dataset\")\n",
    "print(vDataFrame.shape)\n",
    "\n",
    "print(\"\\nThis is the index of the dataset\")\n",
    "print(vDataFrame.index)\n",
    "\n",
    "print(\"\\nThese are the columns in the dataset\")\n",
    "print(vDataFrame.columns)\n",
    "\n",
    "print(\"\\nThe total number of non-NA values in this dataset is:\")\n",
    "print(vDataFrame.notna().sum())\n",
    "\n",
    "print(\"\\nA summary of this dataset is shown below:\")\n",
    "vDataFrame.info()\n",
    "\n",
    "print(\"\\nA descriptive statistical summary of this dataset is shown below:\")\n",
    "print(vDataFrame.describe())\n"
   ]
  },
  {
   "cell_type": "code",
   "execution_count": null,
   "id": "93c841aa-5ed7-4a35-9e47-0fef28ccdee6",
   "metadata": {},
   "outputs": [],
   "source": []
  }
 ],
 "metadata": {
  "kernelspec": {
   "display_name": "Python 3 (ipykernel)",
   "language": "python",
   "name": "python3"
  },
  "language_info": {
   "codemirror_mode": {
    "name": "ipython",
    "version": 3
   },
   "file_extension": ".py",
   "mimetype": "text/x-python",
   "name": "python",
   "nbconvert_exporter": "python",
   "pygments_lexer": "ipython3",
   "version": "3.11.9"
  }
 },
 "nbformat": 4,
 "nbformat_minor": 5
}
